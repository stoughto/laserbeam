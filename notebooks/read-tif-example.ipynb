{
 "cells": [
  {
   "cell_type": "markdown",
   "id": "9c04293c-7869-46c4-b0ff-1f349a960d74",
   "metadata": {},
   "source": [
    "The file half.tif was taken with a ND filter on the Thorlabs CCD camera."
   ]
  },
  {
   "cell_type": "code",
   "execution_count": null,
   "id": "99b0b892-6ba0-4540-b286-6b3ac48d1878",
   "metadata": {},
   "outputs": [],
   "source": [
    "import numpy as np\n",
    "import matplotlib.pyplot as plt\n",
    "from PIL import Image\n",
    "im = Image.open('half.tif')\n",
    "#im.show()\n",
    "imarray = np.array(im)"
   ]
  },
  {
   "cell_type": "code",
   "execution_count": null,
   "id": "909549fa-706a-4536-9f11-80f0008c82ca",
   "metadata": {},
   "outputs": [],
   "source": [
    "imarray.shape"
   ]
  },
  {
   "cell_type": "code",
   "execution_count": null,
   "id": "227f5b08-77ae-482e-82dc-7956f2cd3840",
   "metadata": {},
   "outputs": [],
   "source": [
    "plt.imshow(imarray[:,:,0], cmap='hot', interpolation='nearest')"
   ]
  },
  {
   "cell_type": "code",
   "execution_count": null,
   "id": "1ad2d8a6-5e34-4665-9ffe-049469147dce",
   "metadata": {},
   "outputs": [],
   "source": []
  }
 ],
 "metadata": {
  "kernelspec": {
   "display_name": "Python 3 (ipykernel)",
   "language": "python",
   "name": "python3"
  },
  "language_info": {
   "codemirror_mode": {
    "name": "ipython",
    "version": 3
   },
   "file_extension": ".py",
   "mimetype": "text/x-python",
   "name": "python",
   "nbconvert_exporter": "python",
   "pygments_lexer": "ipython3",
   "version": "3.9.13"
  }
 },
 "nbformat": 4,
 "nbformat_minor": 5
}
